{
  "cells": [
    {
      "cell_type": "markdown",
      "metadata": {
        "id": "vKqnFY-HXSf_"
      },
      "source": [
        "## Question 1"
      ]
    },
    {
      "cell_type": "markdown",
      "metadata": {
        "id": "4DAXAxffXSgM"
      },
      "source": [
        "- `Take two integer numbers and return their product. If the product is greater than 1000, then return their sum if product is less than 1000 return product value only.`\n",
        "\n"
      ]
    },
    {
      "cell_type": "code",
      "execution_count": null,
      "metadata": {
        "id": "Z5NSdzhhXSgQ"
      },
      "outputs": [],
      "source": [
        "# Please write The solution Here for above question 1:\n",
        "pass\n",
        "\n",
        "\n",
        "\n"
      ]
    },
    {
      "cell_type": "markdown",
      "metadata": {
        "id": "hfPW59G7XSgX"
      },
      "source": [
        "## question 2"
      ]
    },
    {
      "cell_type": "markdown",
      "metadata": {
        "id": "RhC8f2FMXSgZ"
      },
      "source": [
        "- `Given a range of the first 10 numbers, Iterate from the start number to the end number, and In each iteration print the sum of the current number and previous number`\n",
        "\n",
        "Expected output:\n",
        "-----------------\n",
        "    Printing current and previous number sum in a range(10)\n",
        "    Current Number 0 Previous Number  0  Sum:  0\n",
        "    Current Number 1 Previous Number  0  Sum:  1\n",
        "    Current Number 2 Previous Number  1  Sum:  3\n",
        "    Current Number 3 Previous Number  2  Sum:  5\n",
        "    Current Number 4 Previous Number  3  Sum:  7\n",
        "    Current Number 5 Previous Number  4  Sum:  9\n",
        "    Current Number 6 Previous Number  5  Sum:  11\n",
        "    Current Number 7 Previous Number  6  Sum:  13\n",
        "    Current Number 8 Previous Number  7  Sum:  15\n",
        "    Current Number 9 Previous Number  8  Sum:  17"
      ]
    },
    {
      "cell_type": "code",
      "execution_count": null,
      "metadata": {
        "id": "wvKSCw1qXSgb",
        "colab": {
          "base_uri": "https://localhost:8080/"
        },
        "outputId": "75d98a5f-28c1-4d13-9170-33c84b701f6c"
      },
      "outputs": [
        {
          "output_type": "stream",
          "name": "stdout",
          "text": [
            "curent number 0 res 0 sum 0\n",
            "curent number 1 res 0 sum 1\n",
            "curent number 2 res 0 sum 2\n",
            "curent number 3 res 0 sum 3\n",
            "curent number 4 res 0 sum 4\n",
            "curent number 5 res 0 sum 5\n",
            "curent number 6 res 0 sum 6\n",
            "curent number 7 res 0 sum 7\n",
            "curent number 8 res 0 sum 8\n",
            "curent number 9 res 0 sum 9\n"
          ]
        }
      ],
      "source": [
        "# Please write The solution Here for above question 2:\n",
        "\n",
        "for i in range(10):\n",
        " res=0\n",
        " sum=res+i\n",
        " print('curent number',i,'res',res,'sum',res+i)"
      ]
    },
    {
      "cell_type": "markdown",
      "metadata": {
        "id": "URav83uhXSge"
      },
      "source": [
        "## question 3"
      ]
    },
    {
      "cell_type": "markdown",
      "metadata": {
        "id": "d3NS1OgjXSgg"
      },
      "source": [
        "Given a string and an integer number n, remove characters from a string starting from zero up to n and return a new string\n",
        "\n",
        "- Example :\n",
        "     `(\"pynative\", 4) so output must be tive.`\n",
        "     \n",
        "     `Note: n must be less than the length of the string.`"
      ]
    },
    {
      "cell_type": "code",
      "execution_count": null,
      "metadata": {
        "id": "hp6088AJXSgh"
      },
      "outputs": [],
      "source": [
        "# Please write The solution Here for above question 3:\n",
        "\n",
        "pass\n",
        "\n",
        "\n"
      ]
    },
    {
      "cell_type": "markdown",
      "metadata": {
        "id": "t0DCyP1nXSgi"
      },
      "source": [
        "## question 4"
      ]
    },
    {
      "cell_type": "markdown",
      "metadata": {
        "id": "mmdrYEsrXSgj"
      },
      "source": [
        "### `Given a list of numbers, return True if first and last number of a list is same`\n",
        "\n",
        "    Expected Output:\n",
        "    -------------------------------------\n",
        "\n",
        "    Given list is\n",
        "    a =  [10, 20, 30, 40, 10]\n",
        "    b = [10 , 20 , 30 , 40, 10 ]\n",
        "    result is True\n",
        "\n",
        "    Given list is  \n",
        "    a = [10, 20, 30, 40, 50]\n",
        "    b = [11 , 21 , 31 , 41 , 51 ]\n",
        "    result is False"
      ]
    },
    {
      "cell_type": "code",
      "execution_count": null,
      "metadata": {
        "id": "K1sp9yXtXSgk",
        "colab": {
          "base_uri": "https://localhost:8080/"
        },
        "outputId": "1e4948d0-b957-4018-c18c-a397913fd4ea"
      },
      "outputs": [
        {
          "output_type": "stream",
          "name": "stdout",
          "text": [
            "true\n",
            "false\n"
          ]
        }
      ],
      "source": [
        "# Please write The solution Here for above question 4:\n",
        "def check(list):\n",
        "  if(list[0])==list[-1]:\n",
        "   print('true')\n",
        "  else:\n",
        "    print('false')\n",
        "\n",
        "check([10,20,30,10])\n",
        "check([11,10,20,40])\n",
        "\n"
      ]
    },
    {
      "cell_type": "markdown",
      "metadata": {
        "id": "l5NQZJPzXSgl"
      },
      "source": [
        "## question 5"
      ]
    },
    {
      "cell_type": "markdown",
      "metadata": {
        "id": "jClb4xq_XSgl"
      },
      "source": [
        "### Given a two Python list. Iterate both lists simultaneously such that list1 should display item in original order and list2 in reverse order\n",
        "\n",
        "    list1 = [10, 20, 30, 40]\n",
        "    list2 = [100, 200, 300, 400]\n",
        "\n",
        "\n",
        "    Expected output:\n",
        "    -----------------------------\n",
        "    10 400\n",
        "    20 300\n",
        "    30 200\n",
        "    40 100"
      ]
    },
    {
      "cell_type": "code",
      "execution_count": null,
      "metadata": {
        "id": "gfHev2xcXSgm",
        "colab": {
          "base_uri": "https://localhost:8080/"
        },
        "outputId": "9d3efbe6-9829-44c5-de3b-71b2b489f8a2"
      },
      "outputs": [
        {
          "output_type": "stream",
          "name": "stdout",
          "text": [
            "10 400\n",
            "20 300\n",
            "30 200\n",
            "40 100\n"
          ]
        }
      ],
      "source": [
        "# Please write The solution Here for above question 5:\n",
        "list1=[10,20,30,40]\n",
        "list2=[100,200,300,400]\n",
        "for i,j in zip (list1,reversed(list2)):\n",
        "  print(i,j)\n",
        "\n",
        "\n"
      ]
    },
    {
      "cell_type": "markdown",
      "metadata": {
        "id": "VaviRk0hXSgn"
      },
      "source": [
        "## question 6"
      ]
    },
    {
      "cell_type": "markdown",
      "metadata": {
        "id": "xu3QfwpXXSgn"
      },
      "source": [
        "### Remove empty strings from the list of strings\n",
        "\n",
        "\n",
        "    list1 = [\"Mike\", \"\", \"Emma\", \"Kelly\", \"\", \"Brad\"]\n",
        "\n",
        "    Expected output:\n",
        "    ----------------------\n",
        "\n",
        "    [\"Mike\", \"Emma\", \"Kelly\", \"Brad\"]\n"
      ]
    },
    {
      "cell_type": "code",
      "execution_count": null,
      "metadata": {
        "id": "hC1TEwU6XSgo",
        "outputId": "1fa83915-e358-4956-f709-0377f428362e",
        "colab": {
          "base_uri": "https://localhost:8080/"
        }
      },
      "outputs": [
        {
          "output_type": "stream",
          "name": "stdout",
          "text": [
            "['susil', '', 'sunil', 'raja']\n",
            "['susil', 'sunil', 'raja']\n"
          ]
        }
      ],
      "source": [
        "# Please write The solution Here for above question 6:\n",
        "\n",
        "mylist=['susil','','sunil','raja']\n",
        "print(mylist)\n",
        "mylist.remove('')\n",
        "print(mylist)\n"
      ]
    },
    {
      "cell_type": "code",
      "execution_count": null,
      "metadata": {
        "id": "P8l8wYwiXSgp"
      },
      "outputs": [],
      "source": []
    }
  ],
  "metadata": {
    "kernelspec": {
      "display_name": "Python 3 (ipykernel)",
      "language": "python",
      "name": "python3"
    },
    "language_info": {
      "codemirror_mode": {
        "name": "ipython",
        "version": 3
      },
      "file_extension": ".py",
      "mimetype": "text/x-python",
      "name": "python",
      "nbconvert_exporter": "python",
      "pygments_lexer": "ipython3",
      "version": "3.11.5"
    },
    "colab": {
      "provenance": []
    }
  },
  "nbformat": 4,
  "nbformat_minor": 0
}