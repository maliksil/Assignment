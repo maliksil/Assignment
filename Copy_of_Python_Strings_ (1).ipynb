{
  "cells": [
    {
      "cell_type": "markdown",
      "id": "b5fabd6b",
      "metadata": {
        "id": "b5fabd6b"
      },
      "source": [
        "<a href=\"https://www.viharatech.com\"><img src=\"https://miro.medium.com/v2/resize:fit:828/format:webp/1*on2Bpj6A5gfd-CzaFOAZRA.jpeg\"></a>\n",
        "\n",
        "\n",
        "- `Welcome to our interactive learning session! In this Jupyter notebook, you'll find a series of questions related to Python String Concept. To maximize your learning, please write Python code in the cell below each question and execute it. This hands-on practice will help reinforce your understanding of the concepts. Feel free to reach out if you have any questions or need assistance. Happy coding! 💻🐍 `"
      ]
    },
    {
      "cell_type": "markdown",
      "id": "db689fc2",
      "metadata": {
        "id": "db689fc2"
      },
      "source": [
        "### Question 1: Write a Python program to count the number of characters in a string without using len function.\n",
        "\n",
        "- `sample input : `\n",
        "    - `var = 'python java'`\n",
        "- `sample output :`\n",
        "    - `result : 11`"
      ]
    },
    {
      "cell_type": "code",
      "execution_count": null,
      "id": "c9ce9180",
      "metadata": {
        "id": "c9ce9180",
        "outputId": "6d1cd169-19af-4588-a8aa-0ceb852aa986",
        "colab": {
          "base_uri": "https://localhost:8080/"
        }
      },
      "outputs": [
        {
          "output_type": "stream",
          "name": "stdout",
          "text": [
            "4\n"
          ]
        }
      ],
      "source": [
        "# Please write The solution Here for above question 1:\n",
        "a='data'\n",
        "res=0\n",
        "for i in a:\n",
        "  res=res+1\n",
        "print(res)\n",
        "\n"
      ]
    },
    {
      "cell_type": "markdown",
      "id": "46f069cc",
      "metadata": {
        "id": "46f069cc"
      },
      "source": [
        "### Question 2: Write a Python program to reverse a string without using [::-1]\n",
        "\n",
        "- `sample input : `\n",
        "    - `var = 'python'`\n",
        "- `sample output :`\n",
        "    - `result : nohtyp`"
      ]
    },
    {
      "cell_type": "code",
      "execution_count": null,
      "id": "2cde3dcc",
      "metadata": {
        "id": "2cde3dcc",
        "colab": {
          "base_uri": "https://localhost:8080/"
        },
        "outputId": "85657185-9bce-40ae-ec03-1436ae2cf33b"
      },
      "outputs": [
        {
          "output_type": "stream",
          "name": "stdout",
          "text": [
            "original string is :python\n",
            "reverse string is:nohtyp\n"
          ]
        }
      ],
      "source": [
        "# Please write The solution Here for above question 2:\n",
        "def susil(a):\n",
        "  str=''\n",
        "  for i in a:\n",
        "    str=i+str\n",
        "  return str\n",
        "\n",
        "a='python'\n",
        "\n",
        "print('original string is :',end='')\n",
        "print(a)\n",
        "\n",
        "print(f'reverse string is:',end='')\n",
        "print(susil(a))\n",
        "\n",
        "\n",
        "\n",
        "\n",
        "\n",
        "\n"
      ]
    },
    {
      "cell_type": "markdown",
      "id": "0f3a2ef5",
      "metadata": {
        "id": "0f3a2ef5"
      },
      "source": [
        "### Question 3: Write a Python program to check if a string is a palindrome don't use [::-1].\n",
        "\n",
        "- `sample input : `\n",
        "    - `var = 'NUN'`\n",
        "- `sample output :`\n",
        "    - `result : It is a Palindrome`\n",
        "    \n",
        "- `palindrome concept = https://www.dictionary.com/e/palindromic-word/#:~:text=A%20palindrome%20is%20a%20word,roots%20in%20the%20early%201600s.`"
      ]
    },
    {
      "cell_type": "code",
      "execution_count": null,
      "id": "74b9f01a",
      "metadata": {
        "id": "74b9f01a"
      },
      "outputs": [],
      "source": [
        "# Please write The solution Here for above question 3:\n",
        "\n",
        "pass\n",
        "\n",
        "\n"
      ]
    },
    {
      "cell_type": "markdown",
      "id": "98e0fc60",
      "metadata": {
        "id": "98e0fc60"
      },
      "source": [
        "### Question 4: Write a Python program to find the most common character in a string.\n",
        "\n",
        "- `sample input : `\n",
        "    - `var = 'Hello world '`\n",
        "- `sample output :`\n",
        "    - `result : l, because l is repeating 3 times `"
      ]
    },
    {
      "cell_type": "code",
      "execution_count": null,
      "id": "d9aa4ca6",
      "metadata": {
        "id": "d9aa4ca6",
        "outputId": "59f8f9a8-9363-4bae-e7c7-22b8f1f68781",
        "colab": {
          "base_uri": "https://localhost:8080/"
        }
      },
      "outputs": [
        {
          "output_type": "stream",
          "name": "stdout",
          "text": [
            "i 1\n",
            "  4\n",
            "a 2\n",
            "m 1\n",
            "  4\n",
            "a 2\n",
            "  4\n",
            "g 1\n",
            "o 3\n",
            "o 3\n",
            "d 1\n",
            "  4\n",
            "b 1\n",
            "o 3\n",
            "y 1\n"
          ]
        }
      ],
      "source": [
        "# Please write The solution Here for above question 4:\n",
        "a='i am a good boy'\n",
        "for i in a:\n",
        "  print(i,a.count(i))\n",
        "\n"
      ]
    },
    {
      "cell_type": "markdown",
      "id": "17eb44eb",
      "metadata": {
        "id": "17eb44eb"
      },
      "source": [
        "### Question 5: Write a Python program to check if two strings are anagrams.\n",
        "\n",
        "- `sample input : `\n",
        "    - `var1 = 'listen'`\n",
        "    - `var2 = 'silent'`\n",
        "- `sample output :`\n",
        "    - `result : both are anagram because characters in var1 should present in var2 `"
      ]
    },
    {
      "cell_type": "code",
      "execution_count": null,
      "id": "29f0e87e",
      "metadata": {
        "id": "29f0e87e"
      },
      "outputs": [],
      "source": [
        "# Please write The solution Here for above question 5:\n",
        "\n",
        "pass\n",
        "\n"
      ]
    },
    {
      "cell_type": "markdown",
      "id": "fac17884",
      "metadata": {
        "id": "fac17884"
      },
      "source": [
        "### Question 6: Write a Python program to remove all the vowels from a string.\n",
        "\n",
        "- `sample input : `\n",
        "    - `var = 'python'`\n",
        "- `sample output :`\n",
        "    - `result : pythn , because vowels are [AEIOUaeiou]`"
      ]
    },
    {
      "cell_type": "code",
      "execution_count": 3,
      "id": "f4b33095",
      "metadata": {
        "id": "f4b33095",
        "colab": {
          "base_uri": "https://localhost:8080/"
        },
        "outputId": "cd400ae0-7eb1-4d06-e7ce-af1035ff4e19"
      },
      "outputs": [
        {
          "output_type": "stream",
          "name": "stdout",
          "text": [
            "removing vowles  hll wrld\n"
          ]
        }
      ],
      "source": [
        "# Please write The solution Here for above question 6:\n",
        "\n",
        "input_string='hello world'\n",
        "result=input_string\n",
        "\n",
        "vowels=('a','e','i','o','u','A','E','I','O','U')\n",
        "\n",
        "for i in input_string:\n",
        "  if i in vowels:\n",
        "    result=result.replace(i,'')\n",
        "\n",
        "print(f'removing vowles ',result)\n"
      ]
    },
    {
      "cell_type": "markdown",
      "id": "2170d6f4",
      "metadata": {
        "id": "2170d6f4"
      },
      "source": [
        "### Question 7: Write a Python program to find the longest word in a string.\n",
        "\n",
        "- `sample input : `\n",
        "    - `var = 'python is Easy Language'`\n",
        "- `sample output :`\n",
        "    - `result : Language`"
      ]
    },
    {
      "cell_type": "code",
      "execution_count": 5,
      "id": "f35de8b3",
      "metadata": {
        "id": "f35de8b3",
        "colab": {
          "base_uri": "https://localhost:8080/"
        },
        "outputId": "63d205a1-a5c8-479e-a0f5-c0217246ceb8"
      },
      "outputs": [
        {
          "output_type": "stream",
          "name": "stdout",
          "text": [
            "enter word:python language\n",
            "python 6\n",
            "language 8\n"
          ]
        }
      ],
      "source": [
        "# Please write The solution Here for above question 7:\n",
        "def longest_word(word_list):\n",
        "  longest_word=''\n",
        "  for word in word_list:\n",
        "    print(word,len(word))\n",
        "\n",
        "word=input('enter word:')\n",
        "word_list=word.split()\n",
        "longest_word(word_list)"
      ]
    },
    {
      "cell_type": "markdown",
      "id": "f349bdb7",
      "metadata": {
        "id": "f349bdb7"
      },
      "source": [
        "### Question 8: Write a Python program to capitalize the first letter of each word in a string [dont use built-in-function title].\n",
        "\n",
        "- `sample input : `\n",
        "    - `var = 'python is easy'`\n",
        "- `sample output :`\n",
        "    - `result : Python Is Easy`"
      ]
    },
    {
      "cell_type": "code",
      "execution_count": null,
      "id": "a1b4c4e6",
      "metadata": {
        "id": "a1b4c4e6"
      },
      "outputs": [],
      "source": [
        "# Please write The solution Here for above question 8:\n",
        "\n",
        "\n"
      ]
    },
    {
      "cell_type": "markdown",
      "id": "d2770696",
      "metadata": {
        "id": "d2770696"
      },
      "source": [
        "### Question 9: Write a Python program to find the frequency of each character in a string.\n",
        "\n",
        "- `sample input : `\n",
        "    - `var = 'sharuk khan'`\n",
        "- `sample output :`\n",
        "    - `result : {'s': 1, 'h': 2, 'a': 2, 'r': 1, 'u': 1, 'k': 2, ' ': 1, 'n': 1}`"
      ]
    },
    {
      "cell_type": "code",
      "execution_count": null,
      "id": "7fdc2e9c",
      "metadata": {
        "id": "7fdc2e9c",
        "outputId": "f7fa6ef7-da2b-45b0-88ee-b570a013c4e6",
        "colab": {
          "base_uri": "https://localhost:8080/"
        }
      },
      "outputs": [
        {
          "output_type": "stream",
          "name": "stdout",
          "text": [
            "count all of character in data science is:{'d': 1}\n",
            "count all of character in data science is:{'d': 1, 'a': 1}\n",
            "count all of character in data science is:{'d': 1, 'a': 1, 't': 1}\n",
            "count all of character in data science is:{'d': 1, 'a': 2, 't': 1}\n",
            "count all of character in data science is:{'d': 1, 'a': 2, 't': 1, ' ': 1}\n",
            "count all of character in data science is:{'d': 1, 'a': 2, 't': 1, ' ': 1, 's': 1}\n",
            "count all of character in data science is:{'d': 1, 'a': 2, 't': 1, ' ': 1, 's': 1, 'c': 1}\n",
            "count all of character in data science is:{'d': 1, 'a': 2, 't': 1, ' ': 1, 's': 1, 'c': 1, 'i': 1}\n",
            "count all of character in data science is:{'d': 1, 'a': 2, 't': 1, ' ': 1, 's': 1, 'c': 1, 'i': 1, 'e': 1}\n",
            "count all of character in data science is:{'d': 1, 'a': 2, 't': 1, ' ': 1, 's': 1, 'c': 1, 'i': 1, 'e': 1, 'n': 1}\n",
            "count all of character in data science is:{'d': 1, 'a': 2, 't': 1, ' ': 1, 's': 1, 'c': 2, 'i': 1, 'e': 1, 'n': 1}\n",
            "count all of character in data science is:{'d': 1, 'a': 2, 't': 1, ' ': 1, 's': 1, 'c': 2, 'i': 1, 'e': 2, 'n': 1}\n"
          ]
        }
      ],
      "source": [
        "# Please write The solution Here for above question 9:\n",
        "a='data science'\n",
        "res={}\n",
        "for i in a:\n",
        "  if i in res:\n",
        "    res[i]=res[i]+1\n",
        "  else:\n",
        "      res[i]=1\n",
        "\n",
        "\n",
        "  print(f'count all of character in data science is:'+str(res))\n"
      ]
    },
    {
      "cell_type": "markdown",
      "id": "5c9a3f09",
      "metadata": {
        "id": "5c9a3f09"
      },
      "source": [
        "### Question 10: write a python programme to find the sum of all the even characters based on Ascii values\n",
        "\n",
        "- `sample input : `\n",
        "    - `var = 'sharuk khan'`\n",
        "- `sample output :`\n",
        "    - `result : 464`\n"
      ]
    },
    {
      "cell_type": "code",
      "execution_count": 6,
      "id": "57c0c30e",
      "metadata": {
        "id": "57c0c30e",
        "outputId": "6a1f1693-8095-4e4f-c489-5742b49de054",
        "colab": {
          "base_uri": "https://localhost:8080/"
        }
      },
      "outputs": [
        {
          "output_type": "stream",
          "name": "stdout",
          "text": [
            "100\n",
            "97\n",
            "116\n",
            "97\n",
            "sum of all the even ascii value is: {216}\n"
          ]
        }
      ],
      "source": [
        "# Please write The solution Here for above question 10:\n",
        "a='data'\n",
        "sum=0\n",
        "for i in a:\n",
        "  print(ord(i))\n",
        "\n",
        "  if ord(i)%2==0:\n",
        "    sum=sum+ord(i)\n",
        "\n",
        "\n",
        "\n",
        "print(f'sum of all the even ascii value is:',{sum})\n",
        "\n",
        "\n",
        "\n"
      ]
    },
    {
      "cell_type": "code",
      "source": [
        "a='data'\n",
        "sum=0\n",
        "for i in  a:\n",
        "  print(ord(i))\n",
        "\n",
        "  if ord(i)%2!=0:\n",
        "    sum=sum+ord(i)\n",
        "\n",
        "print(f'sum of all the odd ascill value is:',{sum})"
      ],
      "metadata": {
        "colab": {
          "base_uri": "https://localhost:8080/"
        },
        "id": "8E_cdgDAdfEh",
        "outputId": "c79ccf4d-e930-411a-fabf-a9f0681460ca"
      },
      "id": "8E_cdgDAdfEh",
      "execution_count": null,
      "outputs": [
        {
          "output_type": "stream",
          "name": "stdout",
          "text": [
            "100\n",
            "97\n",
            "116\n",
            "97\n",
            "sum of all the odd ascill value is: {194}\n"
          ]
        }
      ]
    },
    {
      "cell_type": "code",
      "source": [
        "a='sharuk khan'\n",
        "sum=0\n",
        "for i in a:\n",
        "  print(ord(i))\n",
        "\n",
        "\n",
        "  if ord(i)%2==0:\n",
        "   sum=sum+ord(i)\n",
        "\n",
        "print(f'sum of all the string value is :',{sum})\n"
      ],
      "metadata": {
        "colab": {
          "base_uri": "https://localhost:8080/"
        },
        "id": "ELLH_voNdclK",
        "outputId": "40f6812e-bd56-429e-ccb6-e6118a19f794"
      },
      "id": "ELLH_voNdclK",
      "execution_count": null,
      "outputs": [
        {
          "output_type": "stream",
          "name": "stdout",
          "text": [
            "115\n",
            "104\n",
            "97\n",
            "114\n",
            "117\n",
            "107\n",
            "32\n",
            "107\n",
            "104\n",
            "97\n",
            "110\n",
            "sum of all the string value is : {464}\n"
          ]
        }
      ]
    }
  ],
  "metadata": {
    "kernelspec": {
      "display_name": "Python 3 (ipykernel)",
      "language": "python",
      "name": "python3"
    },
    "language_info": {
      "codemirror_mode": {
        "name": "ipython",
        "version": 3
      },
      "file_extension": ".py",
      "mimetype": "text/x-python",
      "name": "python",
      "nbconvert_exporter": "python",
      "pygments_lexer": "ipython3",
      "version": "3.11.5"
    },
    "colab": {
      "provenance": []
    }
  },
  "nbformat": 4,
  "nbformat_minor": 5
}